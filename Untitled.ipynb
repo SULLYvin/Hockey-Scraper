{
 "cells": [
  {
   "cell_type": "code",
   "execution_count": 6,
   "id": "7eaa51f9-de9a-4717-9631-3de1672bf3d2",
   "metadata": {},
   "outputs": [
    {
     "name": "stdout",
     "output_type": "stream",
     "text": [
      "hello world\n"
     ]
    }
   ],
   "source": [
    "print(\"hello world\")"
   ]
  },
  {
   "cell_type": "code",
   "execution_count": 7,
   "id": "4fb6e44d-31c7-4c35-b509-6d344471afc6",
   "metadata": {},
   "outputs": [
    {
     "ename": "SyntaxError",
     "evalue": "invalid decimal literal (game_scraper.py, line 86)",
     "output_type": "error",
     "traceback": [
      "Traceback \u001b[0;36m(most recent call last)\u001b[0m:\n",
      "\u001b[0m  File \u001b[1;32m~/Documents/GitHub/Hockey-Scraper/.venv/lib/python3.12/site-packages/IPython/core/interactiveshell.py:3577\u001b[0m in \u001b[1;35mrun_code\u001b[0m\n    exec(code_obj, self.user_global_ns, self.user_ns)\u001b[0m\n",
      "\u001b[0m  Cell \u001b[1;32mIn[7], line 1\u001b[0m\n    import hockey_scraper\u001b[0m\n",
      "\u001b[0m  File \u001b[1;32m~/Documents/GitHub/Hockey-Scraper/hockey_scraper/__init__.py:1\u001b[0m\n    from .nhl.live_scrape import ScrapeLiveGames, LiveGame\u001b[0m\n",
      "\u001b[0;36m  File \u001b[0;32m~/Documents/GitHub/Hockey-Scraper/hockey_scraper/nhl/live_scrape.py:8\u001b[0;36m\n\u001b[0;31m    import hockey_scraper.nhl.game_scraper as game_scraper\u001b[0;36m\n",
      "\u001b[0;36m  File \u001b[0;32m~/Documents/GitHub/Hockey-Scraper/hockey_scraper/nhl/game_scraper.py:86\u001b[0;36m\u001b[0m\n\u001b[0;31m    >>>>>>> 1029299054fbe671c3ca9c5d413cdfd102416853\u001b[0m\n\u001b[0m                     ^\u001b[0m\n\u001b[0;31mSyntaxError\u001b[0m\u001b[0;31m:\u001b[0m invalid decimal literal\n"
     ]
    }
   ],
   "source": [
    "import hockey_scraper"
   ]
  },
  {
   "cell_type": "code",
   "execution_count": null,
   "id": "1102bd00-d301-4285-bb15-c134555078a8",
   "metadata": {},
   "outputs": [],
   "source": [
    "scraped_data = hockey_scraper.scrape_games([2007020001, 2008020001, 2009020001], True, data_format='Pandas')"
   ]
  }
 ],
 "metadata": {
  "kernelspec": {
   "display_name": "Python 3 (ipykernel)",
   "language": "python",
   "name": "python3"
  },
  "language_info": {
   "codemirror_mode": {
    "name": "ipython",
    "version": 3
   },
   "file_extension": ".py",
   "mimetype": "text/x-python",
   "name": "python",
   "nbconvert_exporter": "python",
   "pygments_lexer": "ipython3",
   "version": "3.12.3"
  }
 },
 "nbformat": 4,
 "nbformat_minor": 5
}
